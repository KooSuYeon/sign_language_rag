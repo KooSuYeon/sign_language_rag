{
 "cells": [
  {
   "cell_type": "markdown",
   "metadata": {},
   "source": [
    "## 1. 사용환경 준비 (OpenAI)"
   ]
  },
  {
   "cell_type": "code",
   "execution_count": 3,
   "metadata": {},
   "outputs": [],
   "source": [
    "import os\n",
    "from dotenv import load_dotenv\n",
    "\n",
    "load_dotenv()\n",
    "api_key = os.getenv(\"OPEN_AI_KEY\")"
   ]
  },
  {
   "cell_type": "code",
   "execution_count": 4,
   "metadata": {},
   "outputs": [
    {
     "name": "stderr",
     "output_type": "stream",
     "text": [
      "/opt/anaconda3/envs/agentenv/lib/python3.12/site-packages/langchain_community/document_loaders/parsers/pdf.py:300: UserWarning: Warning: Empty content on page 0 of document 한국수어문법.pdf\n",
      "  warnings.warn(\n",
      "/opt/anaconda3/envs/agentenv/lib/python3.12/site-packages/langchain_community/document_loaders/parsers/pdf.py:300: UserWarning: Warning: Empty content on page 1 of document 한국수어문법.pdf\n",
      "  warnings.warn(\n",
      "/opt/anaconda3/envs/agentenv/lib/python3.12/site-packages/langchain_community/document_loaders/parsers/pdf.py:300: UserWarning: Warning: Empty content on page 18 of document 한국수어문법.pdf\n",
      "  warnings.warn(\n",
      "/opt/anaconda3/envs/agentenv/lib/python3.12/site-packages/langchain_community/document_loaders/parsers/pdf.py:300: UserWarning: Warning: Empty content on page 30 of document 한국수어문법.pdf\n",
      "  warnings.warn(\n",
      "/opt/anaconda3/envs/agentenv/lib/python3.12/site-packages/langchain_community/document_loaders/parsers/pdf.py:300: UserWarning: Warning: Empty content on page 84 of document 한국수어문법.pdf\n",
      "  warnings.warn(\n",
      "/opt/anaconda3/envs/agentenv/lib/python3.12/site-packages/langchain_community/document_loaders/parsers/pdf.py:300: UserWarning: Warning: Empty content on page 129 of document 한국수어문법.pdf\n",
      "  warnings.warn(\n",
      "/opt/anaconda3/envs/agentenv/lib/python3.12/site-packages/langchain_community/document_loaders/parsers/pdf.py:300: UserWarning: Warning: Empty content on page 130 of document 한국수어문법.pdf\n",
      "  warnings.warn(\n",
      "/opt/anaconda3/envs/agentenv/lib/python3.12/site-packages/langchain_community/document_loaders/parsers/pdf.py:300: UserWarning: Warning: Empty content on page 224 of document 한국수어문법.pdf\n",
      "  warnings.warn(\n",
      "/opt/anaconda3/envs/agentenv/lib/python3.12/site-packages/langchain_community/document_loaders/parsers/pdf.py:300: UserWarning: Warning: Empty content on page 255 of document 한국수어문법.pdf\n",
      "  warnings.warn(\n"
     ]
    },
    {
     "data": {
      "text/plain": [
       "Document(metadata={'source': '한국수어문법.pdf', 'file_path': '한국수어문법.pdf', 'page': 16, 'total_pages': 256, 'format': 'PDF 1.6', 'title': '', 'author': '', 'subject': '', 'keywords': '', 'creator': '', 'producer': 'ezPDF Builder Supreme', 'creationDate': \"D:20210922221500+09'00'\", 'modDate': \"D:20240812100149+09'00'\", 'trapped': ''}, page_content='15\\n2. 한국수어 문법 표기\\n항목\\n표기 방법 \\n예 \\n손가락 번호 \\n손가락 번호는 지숫자를 기준하여 \\n엄지는 5지, 검지는 1지, 장지는 2지 등으로 한다.  \\n수형\\n수형은 손가락 번호를 이용하여 기술하고, \\n지숫자 수형과 같은 경우는 \\n1수형, 2수형, 8수형, 20수형 등으로 한다. \\n   \\n  9수형    10수형\\n형태소\\n형태소는 { } 안에 한국어 대응어(글로스)로 표기한다. \\n{-이 없다}\\n단어 \\n단어는 [ ]1) 안에 한국어 대응어(글로스)로 표기한다.\\n목적어와 동사로 결합한 글로스는 조사를 생략하고 붙여쓴다. \\n단, 문장 수준의 글로스는 조사는 생략하되 띄어쓰기는 한다.  \\n[버스] \\n[약먹다], [돈내다]\\n[자동차 가다] \\n지문자 \\n지문자는 [  ] 오른쪽에 #으로 표기한다. \\n[방사선]#\\n지시\\n지시는 [지시]로 표기하고 움직임이 있는 경우 오른쪽 위에 위 \\n첨자로 반원 수동과 원 수동으로 표기한다.\\n[지시]반원 수동\\n[지시]원 수동\\n반복 \\n단어를 반복할 때 [ ] 오른쪽 위에 ‘+’로 표기한다.\\n[끓이다]+\\n동시 산출\\n단어를 양손으로 동시에 산출할 때 빗금(/)으로 표기한다.\\n1[주다]a /1[주다]a \\n문장\\n수어 문장은 수지요소와 비수지요소가 동시에 나타나므로 여러 \\n층렬로 표기한다. 수지요소로 나타나는 단어들의 연속을 \\n표기하는 줄을 수지층렬이라 한다. 수지요소와 동시에 \\n나타나는 비수지요소는 수지층렬 바로 위 줄에 표기하는데, \\n이를 비수지층렬이라 한다.\\n비수지층렬 →\\n설명의문표지\\n수지층렬   →[무엇1]\\n{입술벌리기}\\n[남자]\\n[책]\\n[사다]\\n공간표지\\n단어(글로스) 옆에 아래 첨자로 표기한다. 평면 공간의 경우는 \\n임의의 공간 a, b, c... 로, 상하 공간의 경우 상, 하로, 인칭 \\n공간의 경우 1, 2, 3으로 표기한다. a, b, c 등 지시 지점은 \\n수어 화자가 의도한 지시체와 연결되며 어떤 특정 지시체와 \\n고정되어 연결된 것은 아니다.     \\n[집]a\\n[지하철역]b\\n[걷다]a→b\\nb{몸의방향}a {시선}a\\n[엄마]a [아빠]b\\n[좋다]\\n휴지\\n휴지가 나타나는 위치에 {휴지}로 표기한다.\\n[아기] [때] {휴지} [공기] [깨끗하다]\\n마우딩\\n마우딩이라고 표기한 다음 해당하는 한국어 입모양을\\n‘ ’ 안에 넣어 표기한다.\\n{마우딩 ‘어’}\\n[3]a\\n비수지표지\\n비수지표지가 나타나는 단어 위에 줄을 긋고 해당 비수지의 \\n형태를 { } 안에 모두 표기한다. 비수지표지의 순서는 \\n위에서부터 머리-눈-코-입-어깨 순으로 한다.\\n{고개숙이기}\\n{시선응시}\\n{시선응시}\\n{상체숙이기}\\n[선생님]\\n{휴지} [기다리다]\\n')"
      ]
     },
     "execution_count": 4,
     "metadata": {},
     "output_type": "execute_result"
    }
   ],
   "source": [
    "from langchain_openai import ChatOpenAI\n",
    "from langchain_core.messages import HumanMessage\n",
    "\n",
    "# 모델 초기화\n",
    "# temperature이 0에 가까울 수록 정확도가 높은 답변만을 선택함 (1에 가까울수록 랜덤성을 가미함)\n",
    "model = ChatOpenAI(temperature=0.1, model=\"gpt-4o\", api_key=api_key)\n",
    "\n",
    "from langchain_community.document_loaders import PyMuPDFLoader\n",
    "\n",
    "# PDF Loader : PyMuPDFLoader\n",
    "# 선택 이유 : 가장 빠름, 현재 pdf에는 다양한 문법이 포함되어 있어 이를 읽을 수 있는 구조로는 PyMuPDFLoader가 가장 최선의 선택지라는 판단을 함\n",
    "# 표 컨텐츠 포함됨 확인\n",
    "# 단, 유의미한 content인 18, 30, 84 등등... 제외된다는 문제 존재 (추후 해결 예정))\n",
    "loader = PyMuPDFLoader(\"한국수어문법.pdf\")\n",
    "data = loader.load()\n",
    "data[16]"
   ]
  },
  {
   "cell_type": "code",
   "execution_count": 5,
   "metadata": {},
   "outputs": [
    {
     "data": {
      "text/plain": [
       "'14\\n▸비유: 비유는 의미 전이의 방식으로서 인간의 경험과 사고를 확장하는 인지 체계의 하나이며, 유사성과 \\n인접성을 기반으로 한 의미 연상을 통해 이루어진다. 유사성(similarity)이란 서로 비슷한 성질을 의미하\\n고 인접성(contiguity)이란 서로 닿아 있는 성질을 의미한다.\\n▸은유: 유사성에 기반하고 있는 의미 전이 현상을 말한다. \\n▸의미 관계: 어떤 단어가 자신의 의미를 성립시키기 위해서는 그와 관련된 다른 단어와의 비교를 필요로 \\n하는데 이러한 관계를 의미 관계라고 한다. 의미 관계에는 동의관계, 대립관계, 상하관계 등이 있다. \\n▸의미 전이: 언어는 세월을 거치며 어떤 어휘는 생성되고 어떤 어휘는 소멸되며 어떤 어휘는 의미의 \\n변화를 겪는다. 이 세 가지 현상 중 언어가 의미의 변화를 겪는 현상을 ‘의미 전이’라 한다.\\n▸환유: 인접성에 기반하고 있는 의미 전이를 이른다.\\n'"
      ]
     },
     "execution_count": 5,
     "metadata": {},
     "output_type": "execute_result"
    }
   ],
   "source": [
    "data[15].page_content"
   ]
  },
  {
   "cell_type": "code",
   "execution_count": 6,
   "metadata": {},
   "outputs": [
    {
     "data": {
      "text/plain": [
       "' 6\\n1. 한국수어 문법 용어 정의\\n1.1. 음운론\\n▸경로 수동: 수동의 주요 유형으로 한 위치에서 다른 위치로 운동 궤적을 그리는 움직임을 이른다.\\n▸고정 어휘(frozen lexicon): 맥락이 없어도 이해가 가능한 수어 단어로 전통적으로 사전에 실리는 수어 \\n어휘를 이른다. \\n▸내부 수동: 손의 위치는 변화가 없이 손목이나 손가락 관절을 움직이는 것을 이른다. \\n▸단순 수동: 경로 수동이나 내부 수동 중 하나의 움직임만 있는 것을 이른다. \\n▸마우딩: 입 움직임의 하나로 음성언어 발화와 관련이 있다. 수어 단어를 산출하면서 수어 단어에 대응하\\n는 음성언어 전체 음절 혹은 일부를 소리 없이 입 모양으로 표현하는 것이다. 문장에서 두 수어 단어를 \\n연결하거나 어휘를 상세화하는 기능을 한다. \\n▸마우스 제스처: 수어 안에서 형성된 것으로 음성언어와는 관련이 없이 이루어지는 특정한 입 모양을 \\n의미한다. 이는 수어소의 일부이기도 하고 다양한 문법적 기능을 한다. \\n▸무표 수형: 언어 발달 단계에서 가장 우선으로 습득하고 구사할 수 있는 수형이다. 가장 자연스럽고 \\n기본적이어서 표현하기 쉽고 잘 지각할 수 있다. \\n▸변이형: 변이는 전통적으로 음소에서는 변이음, 형태소에서는 이형태로 구별되는 현상을 설명하는 용어\\n이다. 변이음은 물리적으로는 존재하는 소리이나 의미 분화의 기능이 없어 언어 사용자가 인식하지 \\n못하는 소리이다. 하나의 음소가 환경에 따라 다르게 발음될 때 그 각각을 변이음이라 한다. 이형태는 \\n한 형태소가 주위 환경에 따라 형식을 달리하는 경우가 있는데, 이때 달라진 한 형태소의 여러 모양을 \\n이르는 말이다. 음성언어의 변이음에 해당되는 개념을 수어 음운론에서는 ‘변이형’으로 지칭한다. 수어는 \\n산출 과정이 시각적으로 드러나는 특징이 있는데 이때 나타나는 현상 중 시각적으로 다르게 보이더라도 \\n의미 변별에 문제가 없는 정도로 변화된 형태를 변이형이라고 한다. \\n▸복합 수동: 경로 수동과 내부 수동이 동시에 일어나는 움직임을 이른다.\\n▸비수지기호: 수어 단어를 구성하는 손 이외의 요소를 의미한다. 비수지기호에는 얼굴표지, 입표지, 몸표\\n지가 있다. \\n▸생산적 어휘: 맥락이 없으면 이해가 불가능한 수어 형태이나 모어 화자들이 맥락 안에서 사용하며 이해가 \\n 7\\n가능한 어휘를 이른다. 즉 같은 형태라 하더라도 맥락 안에서 다른 의미로 사용될 수 있으며 같은 의미라 \\n하더라도 다른 형태로 사용하기도 하는 어휘이다. 따라서 생산적 어휘는 사전에 실리는 어휘가 아니다. \\n▸수동(movement): 수어를 구성하는 손의 움직임을 의미한다. 수동은 수어소 중 가장 복잡한 구조로 \\n되어 있으며 수어 단어를 생성하는 데 모음에 가까운 역할을 하는 것으로 평가받는 성분이다. \\n▸수동소: 수어를 구성하는 손의 움직임 중에 개별 수어 단어에서 의미의 차이를 가져오는 수동을 수동소라 \\n한다. 개별 수어에서 그 수어 사용자는 수동의 특질을 인식하고 그 특질에 의해 의미를 변별한다. 최소대\\n립쌍에 의해 개별 수어에서의 수동소를 분석할 수 있다.\\n▸수지기호: 수어 단어를 구성하는 손의 요소를 의미한다. 수지기호에는 수형소, 수위소, 수동소, 수향소가 \\n있다.\\n▸수어소(手語素, chereme): 스토키(William Stokoe)가 제안한 수어학 용어로, 수어의 의미를 변별하는 \\n가장 작은 단위이다. 음성언어의 음소(음운)에 대응된다. 수어소는 수어 사용자들이 의미를 변별하는 \\n심리적이고 추상적인 실체로서 의미를 구분하는 요소이다. 이 요소들은 각각 분리 가능하며 새로이 \\n조합되어 또 다른 의미를 생산한다. 현대 수어학에서는 수어소 대신에 음소라는 용어를 그대로 사용한다. \\n수어소에는 수지요소와 비수지요소가 있으며, 수지요소에는 수형소, 수위소, 수동소, 수향소가 있고 비수\\n지요소는 손 이외의 요소로 비수지기호라 한다.\\n▸수위(location): 수어를 구성하는 손의 위치를 의미한다. \\n▸수위소: 수어를 구성하는 손의 위치 중에 개별 수어에서 의미의 차이를 가져오는 수위를 수위소라 한다. \\n개별 수어에서 그 수어 사용자는 수위의 특질을 인식하고 그 특질에 의해 의미를 변별한다. 최소대립쌍에 \\n의해 개별 수어에서의 수위소를 분석할 수 있다.\\n▸수향(orientation): 수어를 구성하는 손의 방향을 의미한다. 여기서 손의 방향이란 손바닥의 방향과 \\n손가락 끝의 방향을 말한다. \\n▸수향소: 수어를 구성하는 손의 방향 중에 개별 수어에서 의미의 차이를 가져오는 수향을 수향소라 한다. \\n개별 수어에서 그 수어 사용자는 수향의 특질을 인식하고 그 특질에 의해 의미를 변별한다. 최소대립쌍에 \\n의해 개별 수어에서의 수향소를 분석할 수 있다.\\n▸수향 제약: 손가락과 손바닥은 신체 일부분으로 물리적으로 신체 구조나 기능적 특성에 따라 특정 수어가 \\n편안하게 산출될 수 있는 쪽으로 손가락과 손바닥의 방향이 정해진다. 이를 수향 제약이라고 한다. \\n▸수향의 잉여성: 조음적(물리적) 측면에서 수향은 이미 선택된 수형과 수위의 관계로 인해 자동으로 도출\\n되는 결과일 수 있다. 이를 수향의 잉여성이라고 한다.\\n 8\\n▸수형(handshape): 수어를 구성하는 손의 모양을 의미한다. \\n▸수형소: 수어를 구성하는 손의 모양 중에 개별 수어에서 의미의 차이를 가져오는 수형을 수형소라 한다. \\n개별 수어에서 그 수어 사용자는 수형의 특질을 인식하고 그 특질에 의해 의미를 변별한다. 최소대립쌍에 \\n의해 개별 수어에서의 수형소를 분석할 수 있다.\\n▸얼굴표지: 수어 화자의 얼굴 움직임을 이르며 언어적인 것과 비언어적인 것으로 나눌 수 있다. 언어적 \\n비수지기호인 얼굴표지는 수어소의 역할을 하거나 문장 안에서 의문문을 산출하는 등의 문법 표지의 \\n기능을 하는 표지이다. 비언어적 얼굴표지는 감정을 나타내는 표정을 이른다.\\n▸유표 수형: 언어발달 초기에는 획득이 어려우나 발달 단계를 거치며 점차 구사할 수 있게 되는 수형들이다.\\n▸음소: 언어에서 의미를 변별하는 가장 작은 단위로 심리적이고 추상적인 실체이다. 사람들이 만들어 \\n내는 다양한 소리 중에서 개별 언어에서 언어 사용자가 인지하여 의미의 차이를 구별하는 소리는 제한적\\n이다. 수화언어학에서 음소에 대응되는 단위는 수어소라고 할 수 있다. 국내의 수화언어학에서는 수어소\\n라는 용어를 보편적으로 사용하나 외국의 수화언어학에서는 수어소(chereme)보다 음소라는 용어를 \\n일반적으로 사용한다. 본 문법서에서는 시각언어인 수어 고유의 특성을 잘 포착하여 표현하는 용어인 \\n‘수어소’를 사용한다. 다만 나머지 용어들은 일반 언어학에서 사용하는 용어를 따른다. \\n▸음운 변동: 수어 단어나 수어소가 순차적으로 결합할 때 수어소의 제약으로 혹은 더 용이하고 효율적으로 \\n발화하기 위해 앞뒤 수어의 영향을 받아 수어소의 형태가 바뀌는 현상을 이른다. \\n▸의미 변별자질: 개별 언어에서 의미의 차이를 나타내는 성분을 말한다. 각 수어소의 성분들은 수어 \\n단어 생성에 의미 변별자질로 작용한다. \\n▸조음(調音, articulation): 성대, 목젖, 혀, 이, 입술 등의 발음 기관을 통해 음을 산출하는 것을 조음이라\\n고 하는데, 수어의 경우 음성언어와 달리 소리가 아닌 신체의 움직임을 생산하므로 조동이라고도 한다. \\n그러나 현대 수화언어학에서는 조음의 개념을 확장하여 음성 산출뿐만 아니라 일정한 공간에서 수어를 \\n산출하는 과정도 ‘조음’으로 지칭한다.\\n▸조음자: 언어를 산출하는 신체기관을 의미하는 용어로 조음 기관이라고도 한다. 음성언어에서 말소리를 \\n산출하기 위한 신체기관으로 입술, 이, 잇몸, 입천장, 혀, 인두 등을 이르며 수어에서는 양손, 양팔, \\n상체, 얼굴을 이른다. \\n▸조음 공간: 수어를 산출하기 위해서 사용하는 모든 공간을 이른다. \\n▸중립 공간: 수어 화자 몸 앞의 공간을 말한다.\\n 9\\n▸지형적 공간: 수어 대화문에서 수어 화자가 중립 공간에 실제 구조물과 사물의 위치를 배치하는 경우 \\n중립 공간은 지형적 공간으로 활용된다.\\n▸최소대립쌍: 수형, 수동, 수향, 수위 등의 수어소 성분이 고정된 상태에서 한 개의 수어소의 대립을 \\n통해 다른 의미의 어휘로 전환되는 쌍을 말한다. 예컨대, 수동, 수향, 수위는 고정된 상태에서 수형의 \\n대립을 통해 다른 의미의 어휘로 전환되는 쌍은 수형의 최소대립쌍이 된다. \\n▸통사적 공간: 중립 공간에 등장인물 등의 위치를 배치하고 고정 어휘와 생산적 어휘로 추상적이고 문법적\\n인 정보를 제시하는 경우 중립 공간은 통사적 공간으로 활용된다.\\n1.2. 형태론\\n▸기본형: 변형하는 단어에서 기본이 되는 형태를 이른다.\\n▸개체 분류사: 분류사의 한 유형으로 지시체를 직접적으로 나타내는 수형을 이른다. 사람, 평평한 사물, \\n기다란 사물 등을 표현한다.\\n▸고유 명사: 어떤 특정한 사람이나 사물의 이름을 나타내는 명사를 이른다. 한국수어에는 지역, 산, 강, \\n나라, 회사, 상표, 학교 등의 이름을 표현하는 고유 명사가 있다.\\n▸공간동사: 수어 동사의 한 유형으로 수어 공간상의 한 지점에서 다른 지점으로 이동하는 동사이다. \\n이 동사들은 이동이나 운반이 일어나기 전과 후의 위치 관계를 표현한다. 공간동사의 예로는 [옮기다], \\n[걷다] 등이 있다.\\n▸굴절: 문장에서 단어의 문법적 관계나 기능을 나타내기 위해 단어의 형태를 바꾸는 과정을 이른다. \\n굴절은 파생과 달리 새로운 단어를 만드는 과정이 아니며 단어가 문장에서 쓰일 때 매우 생산적으로 \\n일어난다. \\n▸단어: 스스로 자립할 수 있는 형식 중 최소의 단위이다. \\n▸단어 변형: 수어에서 굴절을 이른다. 굴절은 단어의 문법적 기능, 역할, 관계를 보이기 위해 단어의 \\n형태를 바꾸는 형태론적 과정으로 수어에서는 명사의 변형과 동사의 변형이 있다. 명사의 변형은 수어 \\n공간을 활용하는 표현과 명사의 복수를 표지하기 위해 명사 단어를 반복하는 표현을 들 수 있다. 동사의 \\n변형은 인칭, 수, 상을 위해 동사의 형태를 바꾸는 것을 이른다. \\n▸단어 형성: 기존의 단어를 이용하여 새로운 단어를 만드는 과정으로 수어에서 단어 형성은 합성법, \\n 10\\n접사 첨가, 수포합, 지숫자 결합 등이 있다.\\n▸도상성: 언어의 형식과 의미 사이에 유사성이 있음을 이르는 용어이다. \\n▸동사: 사람이나 사물의 동작이나 작용을 나타내는 품사이다.\\n▸동시적 결합: 단어 혹은 단어의 구성성분끼리 동시적으로 결합하여 새로운 단어를 만드는 단어 형성법을 \\n이른다.\\n▸명사: 사물의 이름을 나타내는 품사이다.\\n▸상: 사건이나 상황 내부의 시간적인 구성을 바라보는 관점을 나타내는 문법범주이다. 사태를 멀리서 \\n하나의 점처럼 바라보는 완료상과 사태의 내적 시간 구조를 바라보는 미완료상으로 구분하며 미완료상은 \\n다시 진행상, 습관상 등으로 구분할 수 있다. \\n▸수사: 사물의 수량이나 순서를 나타내는 말로 양수사와 서수사가 있다. 한국수어에서 사물의 수량을 \\n나타내는 양수사는 [1], [2], [3] 등 지숫자로 표현하며 대상의 순서를 나타내는 서수사는 [첫째], [둘째] \\n등 어휘로 표현한다. \\n▸수어 공간: 음성언어에서 말소리를 산출하기 위해 구강과 비강을 조음 기관으로 사용하는 것처럼 수어에\\n서는 수어 화자의 신체 앞의 공간에서 수어를 산출한다. 수어를 산출하는 수어 화자 앞의 공간을 수어 \\n공간이라 한다.\\n▸수포합: 어근에 지숫자 수형이 결합하여 단어를 형성하는 과정을 이른다. 한국수어에서는 시간, 나이, \\n학년 등을 가리키는 어휘에서 매우 생산적으로 나타난다. \\n▸순차적 결합: 단어 혹은 단어의 구성성분끼리 순차적으로 결합하여 새로운 단어를 만드는 단어 형성법을 \\n이른다. \\n▸습관상: 사건이나 행동이 규칙적으로 반복됨을 나타내는 문법범주이다. 한국수어에서는 대체로 수동을 \\n반복함으로 표현한다. \\n▸시간선: 수어에서 시간을 나타내는 선으로 수어 화자의 몸을 중심으로 몸 가까운 위치는 현재를, 몸의 \\n앞쪽은 미래를, 뒤쪽은 과거를 나타낸다. \\n▸시제: 어떤 사건이나 상황이 일어난 시간적 위치를 나타내는 문법범주이다. 사건이 말하는 시점보다 \\n먼저 발생하면 과거 시제, 말하는 시점과 동시에 발생하면 현재 시제, 말하는 시점 이후에 발생하면 \\n미래 시제로 구분한다.\\n▸양식: 언어가 산출되고 지각되는 방식을 이르는 용어로, 수어는 몸의 움직임을 통해 산출하고 시각을 \\n 11\\n통해 수용하므로 시각적-제스처 양식이라 한다. 이에 비교해 음성언어는 청각적-음성적 양식을 사용한다. \\n▸어근: 한 단어에서 더 이상 나눌 수 없이 의미의 중심이 되는 요소를 이른다. \\n▸역방향 일치동사: 목적어의 위치에서 주어의 위치로 이동하는 일치동사를 이른다. 예로는 [초대하다], \\n[빌리다] 등이 있다. \\n▸위치 설정: 수어 공간에서 임의의 장소와 명사를 연결하는 것을 이른다. 수어 공간의 어떤 위치와 지시체\\n를 연결한 후 뒤에서 해당 지시체를 다시 말하지 않아도 이미 위치 설정이 되었기 때문에 그 위치를 \\n가리키면 해당 지시체를 말한 것으로 이해한다. \\n▸완료상: 동작이 완료되었음을 나타내는 문법범주이다. 완료상은 [완료하다], [끝], 입표지(입술을 모았다\\n가 벌림)로 표현된다.\\n▸일반동사: 수어 동사의 한 유형으로 방향성을 갖지 않고 주로 수어 화자 신체에 근접하여 실현되는 \\n동사이다. 일반동사의 예로는 [생각하다], [알다] 등이 있다.\\n▸일반 명사: 일반 개념을 나타내는 명사를 이른다. 한국수어에는 인간, 생명체, 구체적인 사물, 추상적인 \\n사물을 표현하는 일반 명사가 있다. \\n▸일치: 문장의 두 요소 사이에 문법적 자질을 공유하는 현상으로 한국수어의 일부 동사는 인칭, 수, 성에 \\n맞게 동사의 형태를 변형하여 일치를 표현한다. \\n▸의존형태소: 혼자서는 쓰이지 못하고 다른 말에 기대어 쓰이는 형태소를 이른다. \\n▸일치동사: 수어 동사의 한 유형으로 동사의 방향성으로 인칭과 수에 대한 정보를 나타낸다. 일치동사의 \\n예로는 [주다], [돕다] 등이 있다.  \\n▸자립형태소: 다른 말에 기대지 않고 홀로 쓰일 수 있는 형태소를 이른다.\\n▸자의성: 언어기호의 형식과 의미의 관계가 필연적이지 않고 관습적임을 이르는 용어이다. \\n▸정방향 일치동사: 주어의 위치에서 목적어의 위치로 동사가 이동하거나 동사의 방향이 향하는 일치동사\\n를 이른다. 예로는 [주다], [돕다] 등이 있다.\\n▸지시 지점: 명사와 연결된 수어 공간의 임의의 위치를 의미한다. \\n▸지시체: 언어 형태가 가리키는 대상을 이른다.\\n▸진행상: 동작이 계속됨을 나타내는 문법범주이다. 어휘 [중], 단어 형태의 변화, 얼굴표지, 입 움직임과 \\n같은 비수지표지로 표현된다.\\n▸취급 분류사: 분류사의 한 유형으로 지시체를 취급하는 수형을 이른다.\\n 12\\n▸파생어: 둘 이상의 형태소가 결합하여 이루어진 단어인 복합어 중에서 어근과 접사(의존형태소)가 결합\\n한 단어를 이른다.\\n▸합성어: 둘 이상의 형태소가 결합하여 이루어진 단어인 복합어 중에서 어근과 어근이 결합한 단어를 \\n이른다. \\n▸합성법: 실질형태소인 어근끼리 결합하여 새로운 단어를 만드는 단어 형성법을 이른다.\\n▸형태소: 언어에서 의미를 갖는 최소 단위를 이른다.\\n1.3. 통사론\\n▸기본 문장: ‘주어-서술어 구성’이 한번만 이루어져 서술 기능을 한번만 수행하는 문장을 의미한다. \\n▸논항: 동사나 형용사가 문장 안에서 필수적으로 취하는 성분을 말한다. 자동사는 주어 논항을 취하고 \\n타동사는 주어와 목적어 논항을 취한다.\\n▸독립어: 문장의 다른 성분과 직접적인 관계를 맺지 않고 홀로 쓰이는 말이다.  \\n▸목적어: 타동사가 쓰인 문장에서 동작의 대상이 되는 말이다. \\n▸무정 명사: 감정을 나타내지 못하는 식물이나 무생물을 가리키는 명사이다. [돌], [책], [나무] 등이 그 \\n예이다. \\n▸문장성분: 하나의 문장을 이루는 데 필요한 성분이다. \\n▸부속성분: 주성분을 꾸며주는 역할을 하는 문장성분이다.\\n▸부정극어: 부정표현에만 호응하는 특정 단어를 말한다. 부정극어는 부정의 의사를 강조하여 나타낼 때 \\n사용되는 부정표현 요소이다. \\n▸서술어: 문장을 이루는 데 필요한 필수성분으로 주어의 행위, 상태, 성질 등을 서술하는 말이다. \\n▸수식어: 문장의 필수적인 성분인 주어, 목적어, 서술어를 꾸미거나 문장 전체를 꾸미는 성분이다. \\n▸자동사: 동사가 나타내는 동작이나 작용이 주어에만 미치는 동사이다. [웃다], [자다], [걷다] 등이 그 \\n예이다. \\n▸주성분: 문장을 이루는 필수적인 문장성분이다.\\n▸주어: 문장을 이루는 데 필요한 필수성분으로 문장에서 무엇 또는 누구에 해당하는 말이다.\\n 13\\n▸지시대명사: 사물이나 장소 등을 가리키는 대명사이다. 1지만 편 한 손으로 지시하는 사물이나 장소를 \\n가리킨다. \\n▸역할전환: 수어 화자의 머리, 얼굴, 시선, 팔, 몸통 등 비수지표지를 이용하여 다른 사람 혹은 이야기 \\n속의 캐릭터의 말, 생각, 느낌, 감정, 행동을 표현하거나 전달하는 표현장치이다. 비수지표지는 대개 \\n수지요소와 동시적으로 산출된다. \\n▸용언: 동사, 형용사와 같이 서술어의 기능을 하는 문장성분을 말한다. \\n▸유정 명사: 생각, 감정 등이 있는 사람이나 동물을 가리키는 명사이다. [아기], [강아지], [사람] 등이 \\n그 예이다. \\n▸이중 부정(二重不定): 한 문장 혹은 절 내에 부정의 요소가 둘 있음에 따라 부정한 내용이 다시 부정되어\\n서 결국 강한 긍정의 의미를 나타내게 되는 표현을 말한다.\\n▸인칭대명사: 사람을 가리키는 대명사이다. 1지만 편 1수형의 한 손 혹은 5지와 모든 손가락을 편 9수형\\n의 한 손으로 사람 혹은 지시하는 사람과 연결된 지시 지점을 가리킨다. 9수형은 발화하는 맥락에 대화상\\n대자가 함께 있을 때 대화상대자를 높이는 기능을 하지만 대화상대자가 발화하는 맥락에 없을 때는 \\n대화상대자를 높이기 위해 사용하지 않는다. ‘그들’, ‘너희’ 등 둘 이상의 수, 즉 복수(複數) 의미의 \\n인칭대명사는 1수형 혹은 9수형의 손으로 지시하는 대상이 있는 위치를 향해 반원으로 움직인다.\\n▸체언: 명사와 같이 문장에서 주체적인 성분으로 쓰이는 문장성분을 말한다.\\n▸초점화: 수신자의 주의를 환기시킬 필요가 있는 새로운 정보를 명확히 강조하는 문장 방식을 의미한다. \\n▸타동사: 동작의 대상인 목적어를 필요로 하는 동사이다. [먹다], [야단치다], [빌리다] 등이 그 예이다. \\n▸화제화: 수신자와 공유된 특정 주제나 대상에 주의를 집중시키기 위해 강조하는 방식을 의미한다.\\n▸확대된 문장: ‘주어-서술어 구성’이 두 번 이상 이루어져 서술 기능을 두 번 이상 수행하는 문장을 \\n의미한다. 한국수어에서 확대된 문장은 안은문장이 아닌 이어진문장의 형식을 갖는다.\\n1.4. 의미론\\n▸관용 표현: 습관적으로 굳어져 익숙하게 쓰이는 표현이되 둘 이상의 언어 기호가 단순한 의미의 합으로 \\n쓰이지 않는 것을 가리키는 말이다.\\n 14\\n▸비유: 비유는 의미 전이의 방식으로서 인간의 경험과 사고를 확장하는 인지 체계의 하나이며, 유사성과 \\n인접성을 기반으로 한 의미 연상을 통해 이루어진다. 유사성(similarity)이란 서로 비슷한 성질을 의미하\\n고 인접성(contiguity)이란 서로 닿아 있는 성질을 의미한다.\\n▸은유: 유사성에 기반하고 있는 의미 전이 현상을 말한다. \\n▸의미 관계: 어떤 단어가 자신의 의미를 성립시키기 위해서는 그와 관련된 다른 단어와의 비교를 필요로 \\n하는데 이러한 관계를 의미 관계라고 한다. 의미 관계에는 동의관계, 대립관계, 상하관계 등이 있다. \\n▸의미 전이: 언어는 세월을 거치며 어떤 어휘는 생성되고 어떤 어휘는 소멸되며 어떤 어휘는 의미의 \\n변화를 겪는다. 이 세 가지 현상 중 언어가 의미의 변화를 겪는 현상을 ‘의미 전이’라 한다.\\n▸환유: 인접성에 기반하고 있는 의미 전이를 이른다.\\n'"
      ]
     },
     "execution_count": 6,
     "metadata": {},
     "output_type": "execute_result"
    }
   ],
   "source": [
    "grammer = \"\"\n",
    "\n",
    "for i in range(7, 16):\n",
    "    grammer += (\" \" + data[i].page_content)\n",
    "\n",
    "grammer"
   ]
  },
  {
   "cell_type": "code",
   "execution_count": 7,
   "metadata": {},
   "outputs": [
    {
     "data": {
      "text/plain": [
       "'18\\n한국수어\\n문법\\n제1장 | 수어와 수어학\\n1. 언어와 수어\\n한국수화언어(이하 수어라 한다)는 한국 사회에 사는 농인과 그 농인들과 의사소통하는 사람들\\n의 언어이다. 수어는 시각을 통해 수용하고 손과 몸의 움직임을 통해 표현하는 시각-운동 체계이\\n다. 이로 인해 과거에는 수어를 제스처와 같은 것으로 인식하여 농인에게는 독자적인 언어가 없으\\n며 따라서 추상적인 사고도 불가능하다는 오해를 받아 왔다. 그러나 이제 ‘한국수화언어법’ 시행과 \\n더불어 한국수어는 대한민국 농인의 공식 언어로 인정되었으며 더 이상 수어가 언어라는 사실에 \\n이의를 제기하지 않는다. 그럼에도 불구하고 음성언어 체계에 익숙한 사람들에게 시각언어 체계는 \\n생소할 수밖에 없다. \\n제스처란 단순한 몸짓이나 손짓이 아니라, 손이나 얼굴 그리고 몸을 이용해서 의미를 전달하는 \\n비음성 의사소통도구이다. 수어 역시 손과 얼굴 그리고 몸을 이용해서 의미를 전달하는 의사소통 \\n도구이다. 이러한 공통점으로 인해 수어가 제스처와 같은 것으로 오해를 받아 왔다. 수어는 움직임\\n을 통해 의미를 전달하고 시각을 통해 수용하는 의사소통 도구로 제스처의 일종이지만 제스처와 \\n수어는 구별되는 측면이 있다. 제스처는 그 움직임과 의미의 관계가 관습적이지 않고 자연적이므\\n로 수어를 모르는 청인들도 의미를 이해할 수 있다. 반면 수어는 그 움직임과 의미의 관계가 관습적\\n이고 규칙의 지배를 받으며 수어를 모르는 사람들은 그 의미를 알 수 없다. 따라서 제스처 중에서 \\n특별히 규칙의 지배를 받는 특정한 제스처를 수어라 한다. \\n제스처는 몸과 손 그리고 얼굴의 의미 있는 움직임이다. 최근 제스처와 관련된 연구에서는 제스\\n처의 움직임이 음성언어나 시각인 수어와 함께 나타나 언어적 발화에 의미적, 통사적, 화용적 정보\\n를 더한다는 점을 밝히고 있다. 그러나 제스처는 언어와는 달리 그 형태를 쪼개어 낼 수 없는'"
      ]
     },
     "execution_count": 7,
     "metadata": {},
     "output_type": "execute_result"
    }
   ],
   "source": [
    "from langchain.text_splitter import CharacterTextSplitter\n",
    "\n",
    "text_splitter = CharacterTextSplitter(\n",
    "    separator=\"\\n\\n\",\n",
    "    chunk_size=2000,\n",
    "    chunk_overlap=20,\n",
    "    length_function=len,\n",
    "    is_separator_regex=False,\n",
    ")\n",
    "\n",
    "splits_char = text_splitter.split_documents(data)\n",
    "splits = splits_char\n",
    "splits_char[16].page_content"
   ]
  },
  {
   "cell_type": "code",
   "execution_count": 8,
   "metadata": {},
   "outputs": [],
   "source": [
    "from langchain_openai import OpenAIEmbeddings\n",
    "import faiss\n",
    "from langchain_community.vectorstores import FAISS\n",
    "from langchain.retrievers import BM25Retriever, EnsembleRetriever\n",
    "\n",
    "# OpenAI 임베딩 모델 초기화\n",
    "embeddings = OpenAIEmbeddings(model=\"text-embedding-ada-002\", api_key=api_key)\n",
    "vectorstore = FAISS.from_documents(documents=splits, embedding=embeddings)\n",
    "\n",
    "bm25_retriever = BM25Retriever.from_documents(splits)\n",
    "faiss_retriever = vectorstore.as_retriever(search_type=\"similarity\", search_kwargs={\"k\": 7})\n",
    "\n",
    "retriever = EnsembleRetriever(\n",
    "            retrievers=[bm25_retriever, faiss_retriever],\n",
    "            weights=[0.3, 0.7]  # 가중치 설정 (가중치의 합은 1.0)\n",
    "        )"
   ]
  },
  {
   "cell_type": "code",
   "execution_count": 9,
   "metadata": {},
   "outputs": [],
   "source": [
    "from langchain_core.prompts import ChatPromptTemplate\n",
    "from langchain_core.runnables import RunnablePassthrough\n",
    "\n",
    "# 프롬프트 템플릿 정의\n",
    "contextual_prompt = ChatPromptTemplate.from_messages([\n",
    "    (\"system\", \n",
    "     \"\"\"\n",
    "     You should answer in Korean Sign Language (KSL). Please transform the sentence based on the given KSL grammar rules, including compound words and compound verbs, following the structure presented in the provided material. After transforming the sentence, please arrange the elements according to the KSL grammar structure, showing the correct order of signs.\n",
    "     \n",
    "     For compound words like [강원도], you should break it down into its components based on KSL grammar. For example, '강원도' is made up of two concepts: [산] (mountain) and [흐르다] (flow). Therefore, [강원도] is represented by simultaneously showing [산] and [흐르다] using both hands.\n",
    "     \n",
    "     Please make sure that all words used in the transformation exist within the established KSL signs. Use only valid KSL signs to form the sentence, and ensure that the transformed sentence follows the KSL grammar structure and utilizes correct sign language vocabulary.\n",
    "     \n",
    "     After transforming the sentence, please break down the compound words into their individual components and provide the correct KSL signs that represent each concept. \n",
    "     Display the final transformation with the KSL grammar structure and how the compound words are represented in sign language.\n",
    "     \"\"\"),\n",
    "    (\"user\", \"Context: {context}\\n\\nQuestion: {question}\")\n",
    "])\n"
   ]
  },
  {
   "cell_type": "code",
   "execution_count": 10,
   "metadata": {},
   "outputs": [],
   "source": [
    "contextual_prompt = ChatPromptTemplate.from_messages([\n",
    "    (\"system\", f\"\"\"\n",
    "     {grammer}\n",
    "\n",
    "     You should answer in Korean Sign Language (KSL). Please transform the sentence based on the given KSL grammar rules, including compound words, compound verbs, and combined actions, following the structure presented in the provided material. After transforming the sentence, please arrange the elements according to the KSL grammar structure, showing the correct order of signs.\n",
    "\n",
    "     For compound words like [강원도], you should break it down into its components based on KSL grammar. For example, '강원도' is made up of two concepts: [산] (mountain) and [흐르다] (flow). Therefore, [강원도] is represented by simultaneously showing [산] and [흐르다] using both hands.\n",
    "\n",
    "     Some compound words may not directly map to the sum of their individual components' meanings. For example, [검정] (black) and [벌레] (bug) when combined form the meaning of [개미] (ant), not [black bug]. Similarly, words like [바지저고리] represent a \"country-style person,\" which cannot be directly deduced from its individual parts. Please be aware of such special compound words and apply the correct KSL transformation.\n",
    "\n",
    "     For verbs, if a compound verb is present, such as [알리다], you should break it down into its individual components, such as [알다] (know) and [주다] (give), and show them in sequence according to KSL grammar.\n",
    "\n",
    "     Please make sure that all words used in the transformation exist within the established KSL signs. Use only valid KSL signs to form the sentence, and ensure that the transformed sentence follows the KSL grammar structure and utilizes correct sign language vocabulary.\n",
    "\n",
    "     After transforming the sentence, please **only show the transformed KSL sentence** without any additional explanation or breakdown. Just display the final KSL sentence using the correct signs and their order according to KSL grammar.\n",
    "     \"\"\"),\n",
    "    (\"user\", \"Context: {context}\\n\\nQuestion: {question}\")\n",
    "])"
   ]
  },
  {
   "cell_type": "code",
   "execution_count": 11,
   "metadata": {},
   "outputs": [],
   "source": [
    "class DebugPassThrough(RunnablePassthrough):\n",
    "    def invoke(self, *args, **kwargs):\n",
    "        output = super().invoke(*args, **kwargs)\n",
    "        # print(\"Debug Output:\", output)\n",
    "        return output\n",
    "    \n",
    "    \n",
    "# 문서 리스트를 텍스트로 변환하는 단계 추가\n",
    "class ContextToText(RunnablePassthrough):\n",
    "    def invoke(self, inputs, config=None, **kwargs):  # config 인수 추가\n",
    "        # context의 각 문서를 문자열로 결합\n",
    "        context_text = \"\\n\".join([f\"Page {doc.metadata.get('page', 'Unknown')}: {doc.page_content}\" for doc in inputs[\"context\"]])\n",
    "        # print(context_text)\n",
    "        return {\"context\": context_text, \"question\": inputs[\"question\"]}\n",
    "\n",
    "# RAG 체인에서 각 단계마다 DebugPassThrough 추가\n",
    "rag_chain_debug = {\n",
    "    \"context\": retriever,                    # 컨텍스트를 가져오는 retriever\n",
    "    \"question\": DebugPassThrough()        # 사용자 질문이 그대로 전달되는지 확인하는 passthrough\n",
    "}  | DebugPassThrough() | ContextToText()|   contextual_prompt | model"
   ]
  },
  {
   "cell_type": "markdown",
   "metadata": {},
   "source": [
    "## 2-1. 한국어 -> 한국수어"
   ]
  },
  {
   "cell_type": "code",
   "execution_count": 12,
   "metadata": {},
   "outputs": [
    {
     "name": "stdout",
     "output_type": "stream",
     "text": [
      "question: 3호선으로 바꿔 타는 곳은 어디입니까?\n",
      "RAG response : [3][호선][바꾸다][타다][곳][어디]\n",
      "question: 3호선에서 바꿔타면 어디입니까?\n",
      "RAG response : [3호선] [바꾸다] [타다] [어디] [질문]\n"
     ]
    }
   ],
   "source": [
    "while True:\n",
    "    query = input(\"질문을 입력하세요! 종료를 원한다면 exit을 입력하세요.\")\n",
    "    if query == \"exit\":\n",
    "        break\n",
    "    print(\"question: \" + query)\n",
    "    \n",
    "    response = rag_chain_debug.invoke(query)\n",
    "    print(\"RAG response : \" + response.content)"
   ]
  },
  {
   "cell_type": "markdown",
   "metadata": {},
   "source": [
    "## 2-2. 한국수어 -> 한국어"
   ]
  },
  {
   "cell_type": "code",
   "execution_count": 23,
   "metadata": {},
   "outputs": [],
   "source": [
    "to_korean_prompt = ChatPromptTemplate.from_messages([\n",
    "    (\"system\", f\"\"\"\n",
    "    {grammer}\n",
    "\n",
    "    Convert the given Korean Sign Language (KSL) input into a natural Korean sentence. The input will include actions and postures (e.g., 고개숙이기, 상체숙이기) in addition to words. Follow these rules to ensure accurate and contextually appropriate translation:\n",
    "\n",
    "    1. **Interpret KSL Actions and Postures**:\n",
    "       - Analyze the actions and postures included in the KSL input (e.g., 고개숙이기, 상체숙이기) and translate them into corresponding natural expressions in Korean.\n",
    "       - Integrate the meaning of these gestures seamlessly into the sentence.\n",
    "       - For non-verbal gestures (e.g., 고개숙이기), do not enclose them in brackets. Simply describe them naturally in Korean.\n",
    "\n",
    "    2. **Rearrange According to Korean Grammar**:\n",
    "       - Rearrange the input sequence, often following Subject-Object-Verb (SOV) order, into a natural Subject-Verb-Object (SVO) structure typical of Korean.\n",
    "       - Ensure that the final output is grammatically correct and coherent.\n",
    "\n",
    "    3. **Handle Compound Words and Idiomatic Expressions**:\n",
    "       - For compound words or phrases (e.g., 휴지 청소), ensure they are translated into the most natural equivalent in Korean.\n",
    "       - Interpret idiomatic or symbolic expressions in a contextually appropriate manner.\n",
    "\n",
    "    4. **Preserve the Context and Intent**:\n",
    "       - Retain the original intent, tone, and context of the KSL input when translating into Korean.\n",
    "       - Ensure that the final Korean sentence accurately conveys the intended meaning of the KSL input.\n",
    "\n",
    "    5. **Output Only the Final Translation**:\n",
    "       - Provide only the final Korean translation. Do not include additional explanations or intermediate steps.\n",
    "\n",
    "    Example Input:\n",
    "    - Input: [어머니] 시선응시 [나] 휴지 [청소] [해라] 고개숙이기 상체숙이기\n",
    "    - Output: 어머니께서 나에게 청소를 하라고 하셨다.\n",
    "\n",
    "    Format for the output:\n",
    "    - **Korean Translation**: [Translated Sentence]\n",
    "    \"\"\"),\n",
    "    (\"user\", \"Context: {context}\\n\\nQuestion: {question}\")\n",
    "])\n",
    "\n"
   ]
  },
  {
   "cell_type": "code",
   "execution_count": 24,
   "metadata": {},
   "outputs": [],
   "source": [
    "class DebugPassThrough(RunnablePassthrough):\n",
    "    def invoke(self, *args, **kwargs):\n",
    "        output = super().invoke(*args, **kwargs)\n",
    "        # print(\"Debug Output:\", output)\n",
    "        return output\n",
    "    \n",
    "    \n",
    "# 문서 리스트를 텍스트로 변환하는 단계 추가\n",
    "class ContextToText(RunnablePassthrough):\n",
    "    def invoke(self, inputs, config=None, **kwargs):  # config 인수 추가\n",
    "        # context의 각 문서를 문자열로 결합\n",
    "        context_text = \"\\n\".join([f\"Page {doc.metadata.get('page', 'Unknown')}: {doc.page_content}\" for doc in inputs[\"context\"]])\n",
    "        # print(context_text)\n",
    "        return {\"context\": context_text, \"question\": inputs[\"question\"]}\n",
    "\n",
    "# RAG 체인에서 각 단계마다 DebugPassThrough 추가\n",
    "rag_chain_debug = {\n",
    "    \"context\": retriever,                    # 컨텍스트를 가져오는 retriever\n",
    "    \"question\": DebugPassThrough()        # 사용자 질문이 그대로 전달되는지 확인하는 passthrough\n",
    "}  | DebugPassThrough() | ContextToText()|   to_korean_prompt | model"
   ]
  },
  {
   "cell_type": "code",
   "execution_count": 25,
   "metadata": {},
   "outputs": [
    {
     "name": "stdout",
     "output_type": "stream",
     "text": [
      "question: [민수] 아주짧은휴지 [선생님] 아주짧은휴지 [미움] [받다] 긴휴지\n",
      "RAG response : Korean Translation: 민수가 선생님에게 미움을 받았다.\n",
      "question: [어머니] 시선응시 [나] {휴지} [청소] [해라] 고개숙이기 상체숙이기\n",
      "RAG response : 어머니께서 나에게 청소를 하라고 정중하게 말씀하셨다.\n",
      "question: [학생] [싸우다] [왜] 설명의문표지\n",
      "RAG response : 학생들이 왜 싸웠습니까?\n"
     ]
    }
   ],
   "source": [
    "while True:\n",
    "    query = input(\"질문을 입력하세요! 종료를 원한다면 exit을 입력하세요.\")\n",
    "    if query == \"exit\":\n",
    "        break\n",
    "    print(\"question: \" + query)\n",
    "    \n",
    "    response = rag_chain_debug.invoke(query)\n",
    "    print(\"RAG response : \" + response.content)"
   ]
  },
  {
   "cell_type": "code",
   "execution_count": null,
   "metadata": {},
   "outputs": [],
   "source": []
  }
 ],
 "metadata": {
  "kernelspec": {
   "display_name": "python (agent_env)",
   "language": "python",
   "name": "agentenv"
  },
  "language_info": {
   "codemirror_mode": {
    "name": "ipython",
    "version": 3
   },
   "file_extension": ".py",
   "mimetype": "text/x-python",
   "name": "python",
   "nbconvert_exporter": "python",
   "pygments_lexer": "ipython3",
   "version": "3.12.2"
  }
 },
 "nbformat": 4,
 "nbformat_minor": 2
}
